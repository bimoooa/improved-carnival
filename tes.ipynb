{
  "nbformat": 4,
  "nbformat_minor": 0,
  "metadata": {
    "colab": {
      "name": "tes.ipynb",
      "provenance": [],
      "collapsed_sections": [],
      "authorship_tag": "ABX9TyObUqND5AtjprGRQaGbRveZ",
      "include_colab_link": true
    },
    "kernelspec": {
      "name": "python3",
      "display_name": "Python 3"
    },
    "language_info": {
      "name": "python"
    }
  },
  "cells": [
    {
      "cell_type": "markdown",
      "metadata": {
        "id": "view-in-github",
        "colab_type": "text"
      },
      "source": [
        "<a href=\"https://colab.research.google.com/github/bimoooa/improved-carnival/blob/main/tes.ipynb\" target=\"_parent\"><img src=\"https://colab.research.google.com/assets/colab-badge.svg\" alt=\"Open In Colab\"/></a>"
      ]
    },
    {
      "cell_type": "code",
      "execution_count": null,
      "metadata": {
        "colab": {
          "base_uri": "https://localhost:8080/"
        },
        "id": "DdT_rDS0dsB7",
        "outputId": "679171a6-737c-4a10-aa57-90a62b393a68"
      },
      "outputs": [
        {
          "output_type": "stream",
          "name": "stdout",
          "text": [
            "5 * 3 + 7 / 5 ** 3 - 5 = 10.056\n",
            "7 * 5 + 3 = 38\n"
          ]
        }
      ],
      "source": [
        "a = 5\n",
        "b = 3\n",
        "c = 7\n",
        "\n",
        "# operasi campuran\n",
        "hasil = a * b + c / a ** b - a\n",
        "print(a,'*',b,'+',c,'/',a,'**',b,'-',a,'=',hasil)\n",
        "\n",
        "hasil = c * a + b\n",
        "print(c,'*',a,'+',b,'=',hasil)\n"
      ]
    }
  ]
}