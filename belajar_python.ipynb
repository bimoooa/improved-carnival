{
  "nbformat": 4,
  "nbformat_minor": 0,
  "metadata": {
    "colab": {
      "name": "belajar python.ipynb",
      "provenance": [],
      "collapsed_sections": [],
      "authorship_tag": "ABX9TyOltHdBa7Iw0gEw6RDkDQvu",
      "include_colab_link": true
    },
    "kernelspec": {
      "name": "python3",
      "display_name": "Python 3"
    },
    "language_info": {
      "name": "python"
    }
  },
  "cells": [
    {
      "cell_type": "markdown",
      "metadata": {
        "id": "view-in-github",
        "colab_type": "text"
      },
      "source": [
        "<a href=\"https://colab.research.google.com/github/bimoooa/improved-carnival/blob/main/belajar_python.ipynb\" target=\"_parent\"><img src=\"https://colab.research.google.com/assets/colab-badge.svg\" alt=\"Open In Colab\"/></a>"
      ]
    },
    {
      "cell_type": "code",
      "execution_count": 8,
      "metadata": {
        "colab": {
          "base_uri": "https://localhost:8080/"
        },
        "id": "DdT_rDS0dsB7",
        "outputId": "932bc80c-7d43-46e3-a9f3-1aad826573be"
      },
      "outputs": [
        {
          "output_type": "stream",
          "name": "stdout",
          "text": [
            "5 + 7 + 3 = 15\n",
            "3 - 7 - 5 = -9\n",
            "3 * 7 = 21\n",
            "7 / 5 = 1.4\n",
            "7 ** 3 = 343\n",
            "5 % 3 = 2\n",
            "5 * 3 + 7 / 5 ** 3 - 5 = 10.056\n",
            "7 * 5 + 3 = 38\n"
          ]
        }
      ],
      "source": [
        "a = 5\n",
        "b = 3\n",
        "c = 7\n",
        "\n",
        "# operasi pejumlahan\n",
        "hasil = a + c + b\n",
        "print(a,'+',c,'+',b,'=',hasil)\n",
        "\n",
        "# operasi pengurangan\n",
        "hasil = b - c -a\n",
        "print(b,'-',c,'-',a,'=',hasil)\n",
        "\n",
        "# operasi perkalian\n",
        "hasil = b * c\n",
        "print(b,'*',c,'=',hasil)\n",
        "\n",
        "# operasi pembagian\n",
        "hasil = c / a\n",
        "print(c,'/',a,'=',hasil)\n",
        "\n",
        "# operasi eksponen\n",
        "hasil = c ** b\n",
        "print(c,'**',b,'=',hasil)\n",
        "\n",
        "# operasi modulus\n",
        "hasil = a % b\n",
        "print(a,'%',b,'=',hasil)\n",
        "\n",
        "# operasi campuran\n",
        "hasil = a * b + c / a ** b - a\n",
        "print(a,'*',b,'+',c,'/',a,'**',b,'-',a,'=',hasil)\n",
        "\n",
        "hasil = c * a + b\n",
        "print(c,'*',a,'+',b,'=',hasil)\n"
      ]
    }
  ]
}